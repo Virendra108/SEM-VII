{
  "nbformat": 4,
  "nbformat_minor": 0,
  "metadata": {
    "colab": {
      "provenance": []
    },
    "kernelspec": {
      "name": "python3",
      "display_name": "Python 3"
    },
    "language_info": {
      "name": "python"
    }
  },
  "cells": [
    {
      "cell_type": "code",
      "execution_count": null,
      "metadata": {
        "colab": {
          "base_uri": "https://localhost:8080/"
        },
        "id": "fcM9Vel-HX2C",
        "outputId": "80eed86d-faa9-4d01-f0b1-b321239a0374"
      },
      "outputs": [
        {
          "output_type": "stream",
          "name": "stdout",
          "text": [
            "Enter the message to encrypt: HEllo\n",
            "Enter the shift value: 3\n",
            "Encrypted message: KHoor\n"
          ]
        }
      ],
      "source": [
        "#chat GPT\n",
        "\n",
        "def caesar_cipher_encrypt(text, shift):\n",
        "    result = \"\"\n",
        "\n",
        "    for char in text:\n",
        "        if char.isalpha():\n",
        "            # Shift uppercase letters\n",
        "            base = ord('A') if char.isupper() else ord('a')\n",
        "            shifted = (ord(char) - base + shift) % 26 + base\n",
        "            result += chr(shifted)\n",
        "        else:\n",
        "            #for non-alphabetic characters to remain same.\n",
        "            result += char\n",
        "\n",
        "    return result\n",
        "\n",
        "# Get input from user\n",
        "message = input(\"Enter the message to encrypt: \")\n",
        "shift = int(input(\"Enter the shift value: \"))\n",
        "\n",
        "# Encrypt the message\n",
        "encrypted_message = caesar_cipher_encrypt(message, shift)\n",
        "\n",
        "print(\"Encrypted message:\", encrypted_message)\n"
      ]
    },
    {
      "cell_type": "code",
      "source": [
        "#list method\n",
        "\n",
        "def caesar_cipher_with_list(text, shift):\n",
        "    alphabet = [chr(i) for i in range(ord('a'), ord('z') + 1)]\n",
        "    result = \"\"\n",
        "\n",
        "    for char in text:\n",
        "        if char.isalpha():\n",
        "            is_upper = char.isupper()\n",
        "            char_lower = char.lower()\n",
        "            idx = alphabet.index(char_lower)\n",
        "            shifted_idx = (idx + shift) % 26\n",
        "            new_char = alphabet[shifted_idx]\n",
        "            if is_upper == True:\n",
        "                result += new_char.upper()\n",
        "            else:\n",
        "              result+= new_char\n",
        "        else:\n",
        "            result += char\n",
        "\n",
        "    return result\n",
        "\n",
        "# Get user input\n",
        "message = input(\"Enter the message to encrypt: \")\n",
        "shift = int(input(\"Enter the shift value: \"))\n",
        "\n",
        "# Encrypti\n",
        "encrypted = caesar_cipher_with_list(message, shift)\n",
        "print(\"Encrypted message:\", encrypted)\n"
      ],
      "metadata": {
        "colab": {
          "base_uri": "https://localhost:8080/"
        },
        "id": "tyuO9ERFKGCB",
        "outputId": "f079e956-9ca4-4dd6-c07f-769c15236e66"
      },
      "execution_count": null,
      "outputs": [
        {
          "output_type": "stream",
          "name": "stdout",
          "text": [
            "Enter the message to encrypt: abc\n",
            "Enter the shift value: 3\n",
            "Encrypted message: def\n"
          ]
        }
      ]
    }
  ]
}